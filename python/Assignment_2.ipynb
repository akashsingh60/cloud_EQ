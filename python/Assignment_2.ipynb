{
  "nbformat": 4,
  "nbformat_minor": 0,
  "metadata": {
    "colab": {
      "provenance": []
    },
    "kernelspec": {
      "name": "python3",
      "display_name": "Python 3"
    },
    "language_info": {
      "name": "python"
    }
  },
  "cells": [
    {
      "cell_type": "markdown",
      "source": [
        "# **Access a particular Element**"
      ],
      "metadata": {
        "id": "nfXgNJSrR6UG"
      }
    },
    {
      "cell_type": "code",
      "execution_count": 5,
      "metadata": {
        "colab": {
          "base_uri": "https://localhost:8080/"
        },
        "id": "I97lFuVlRxOg",
        "outputId": "4f05881e-6afa-4dfa-80f4-6b9a4fc7f5fa"
      },
      "outputs": [
        {
          "output_type": "stream",
          "name": "stdout",
          "text": [
            "3 is in the set\n"
          ]
        }
      ],
      "source": [
        "# Create a set\n",
        "my_set = {1, 2, 3, 4, 5}\n",
        "\n",
        "# Access a particular element\n",
        "element = 3\n",
        "if element in my_set:\n",
        "    print(f\"{element} is in the set\")\n",
        "else:\n",
        "    print(f\"{element} is not in the set\")\n"
      ]
    },
    {
      "cell_type": "markdown",
      "source": [
        "# **Using Append()**"
      ],
      "metadata": {
        "id": "lw6F-r80SGeY"
      }
    },
    {
      "cell_type": "code",
      "source": [
        "# Create a list\n",
        "my_list = [1, 2, 3, 4]\n",
        "\n",
        "# Append an element to the list\n",
        "my_list.append(5)\n",
        "print(my_list)   # Output: [1, 2, 3, 4, 5]\n"
      ],
      "metadata": {
        "colab": {
          "base_uri": "https://localhost:8080/"
        },
        "id": "AOE8kuP_R2pS",
        "outputId": "eb3a1a26-2e3b-413e-c5ba-eab17cfc4e5c"
      },
      "execution_count": 6,
      "outputs": [
        {
          "output_type": "stream",
          "name": "stdout",
          "text": [
            "[1, 2, 3, 4, 5]\n"
          ]
        }
      ]
    },
    {
      "cell_type": "markdown",
      "source": [
        "# **Difference between remove() function and discard() function**"
      ],
      "metadata": {
        "id": "0lNSFH6jSNhV"
      }
    },
    {
      "cell_type": "code",
      "source": [
        "# Create a set\n",
        "my_set = {1, 2, 3, 4, 5}\n",
        "\n",
        "# Remove an element\n",
        "my_set.remove(3)\n",
        "print(my_set)   # Output: {1, 2, 4, 5}\n",
        "\n",
        "# Try to remove a non-existent element\n",
        "my_set.discard(3)\n",
        "print(my_set)   # Output: {1, 2, 4, 5}\n"
      ],
      "metadata": {
        "colab": {
          "base_uri": "https://localhost:8080/"
        },
        "id": "Zv1NWDRDSS1X",
        "outputId": "7b304554-fe01-4df2-97dd-8874bae2a218"
      },
      "execution_count": 7,
      "outputs": [
        {
          "output_type": "stream",
          "name": "stdout",
          "text": [
            "{1, 2, 4, 5}\n",
            "{1, 2, 4, 5}\n"
          ]
        }
      ]
    },
    {
      "cell_type": "markdown",
      "source": [
        "# **Intersection_update() function:**"
      ],
      "metadata": {
        "id": "OTTH0r0aSaLP"
      }
    },
    {
      "cell_type": "code",
      "source": [
        "# Create two sets\n",
        "set1 = {1, 2, 3, 4}\n",
        "set2 = {2, 3, 4, 5}\n",
        "\n",
        "# Update set1 with the intersection of set1 and set2\n",
        "set1.intersection_update(set2)\n",
        "print(set1)   # Output: {2, 3, 4}\n"
      ],
      "metadata": {
        "colab": {
          "base_uri": "https://localhost:8080/"
        },
        "id": "UsuzrgkHSd_h",
        "outputId": "5162c54b-8dc0-45a9-fbff-a0887bea126a"
      },
      "execution_count": 8,
      "outputs": [
        {
          "output_type": "stream",
          "name": "stdout",
          "text": [
            "{2, 3, 4}\n"
          ]
        }
      ]
    },
    {
      "cell_type": "markdown",
      "source": [
        "# **Symmetric_difference_update() function:**"
      ],
      "metadata": {
        "id": "1f5dpC_WSovr"
      }
    },
    {
      "cell_type": "code",
      "source": [
        "# Create two sets\n",
        "set1 = {1, 2, 3, 4}\n",
        "set2 = {2, 3, 4, 5}\n",
        "\n",
        "# Update set1 with the symmetric difference of set1 and set2\n",
        "set1.symmetric_difference_update(set2)\n",
        "print(set1)   # Output: {1, 5}\n"
      ],
      "metadata": {
        "colab": {
          "base_uri": "https://localhost:8080/"
        },
        "id": "jRWMP2dISlx1",
        "outputId": "e9a45e33-7140-4cc8-bee3-8f3420cc39dc"
      },
      "execution_count": 9,
      "outputs": [
        {
          "output_type": "stream",
          "name": "stdout",
          "text": [
            "{1, 5}\n"
          ]
        }
      ]
    },
    {
      "cell_type": "markdown",
      "source": [
        "# **Symmetric_difference() function:**"
      ],
      "metadata": {
        "id": "jL7w2OAdSxyH"
      }
    },
    {
      "cell_type": "code",
      "source": [
        "# Create two sets\n",
        "set1 = {1, 2, 3, 4}\n",
        "set2 = {2, 3, 4, 5}\n",
        "\n",
        "# Get the symmetric difference of set1 and set2\n",
        "symmetric_diff = set1.symmetric_difference(set2)\n",
        "print(symmetric_diff)   # Output: {1, 5}\n"
      ],
      "metadata": {
        "colab": {
          "base_uri": "https://localhost:8080/"
        },
        "id": "MEb_YqL1Swtb",
        "outputId": "8b13c8b6-cf1d-46b4-c14c-139ff2c3d233"
      },
      "execution_count": 10,
      "outputs": [
        {
          "output_type": "stream",
          "name": "stdout",
          "text": [
            "{1, 5}\n"
          ]
        }
      ]
    },
    {
      "cell_type": "markdown",
      "source": [
        "# **Dict() function:**"
      ],
      "metadata": {
        "id": "F0wlESddTChL"
      }
    },
    {
      "cell_type": "code",
      "source": [
        "# Create a dictionary\n",
        "my_dict = dict(name=\"John\", age=30, city=\"New York\")\n",
        "print(my_dict)   # Output: {'name': 'John', 'age': 30, 'city': 'New York'}\n"
      ],
      "metadata": {
        "colab": {
          "base_uri": "https://localhost:8080/"
        },
        "id": "nPe574wPS87V",
        "outputId": "0be4f574-eb66-454d-8da2-e6551d046fb5"
      },
      "execution_count": 11,
      "outputs": [
        {
          "output_type": "stream",
          "name": "stdout",
          "text": [
            "{'name': 'John', 'age': 30, 'city': 'New York'}\n"
          ]
        }
      ]
    }
  ]
}