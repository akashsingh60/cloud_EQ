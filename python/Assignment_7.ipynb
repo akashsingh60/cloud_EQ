{
 "cells": [
  {
   "attachments": {},
   "cell_type": "markdown",
   "metadata": {},
   "source": [
    "### **If we have an object which has both instance as well as class attr, who will get preference?**\n",
    "the instance attribute takes precedence over the class attribute."
   ]
  },
  {
   "cell_type": "code",
   "execution_count": 1,
   "metadata": {},
   "outputs": [
    {
     "name": "stdout",
     "output_type": "stream",
     "text": [
      "class value\n",
      "instance value\n",
      "new value\n",
      "class value\n"
     ]
    }
   ],
   "source": [
    "class MyClass:\n",
    "    class_attr = \"class value\"\n",
    "    \n",
    "    def __init__(self):\n",
    "        self.instance_attr = \"instance value\"\n",
    "        \n",
    "my_obj = MyClass()\n",
    "print(my_obj.class_attr)        # \"class value\"\n",
    "print(my_obj.instance_attr)     # \"instance value\"\n",
    "\n",
    "my_obj.class_attr = \"new value\"\n",
    "print(my_obj.class_attr)        # \"new value\"\n",
    "print(MyClass.class_attr)       # \"class value\"\n"
   ]
  },
  {
   "attachments": {},
   "cell_type": "markdown",
   "metadata": {},
   "source": [
    "### **Create a class and make three object with different parameters and change the values when you retrive data from the class.**"
   ]
  },
  {
   "cell_type": "code",
   "execution_count": 2,
   "metadata": {},
   "outputs": [
    {
     "name": "stdout",
     "output_type": "stream",
     "text": [
      "Alice\n",
      "Alicia\n",
      "30\n",
      "32\n",
      "Charlie 35\n",
      "Charlotte 40\n"
     ]
    }
   ],
   "source": [
    "class Person:\n",
    "    def __init__(self, name, age):\n",
    "        self.name = name\n",
    "        self.age = age\n",
    "\n",
    "person1 = Person(\"Alice\", 25)\n",
    "person2 = Person(\"Bob\", 30)\n",
    "person3 = Person(\"Charlie\", 35)\n",
    "\n",
    "# Retrieve data from the class and change values\n",
    "print(person1.name)        # \"Alice\"\n",
    "person1.name = \"Alicia\"\n",
    "print(person1.name)        # \"Alicia\"\n",
    "\n",
    "print(person2.age)         # 30\n",
    "person2.age = 32\n",
    "print(person2.age)         # 32\n",
    "\n",
    "print(person3.name, person3.age)  # \"Charlie 35\"\n",
    "person3.name = \"Charlotte\"\n",
    "person3.age = 40\n",
    "print(person3.name, person3.age)  # \"Charlotte 40\"\n"
   ]
  },
  {
   "attachments": {},
   "cell_type": "markdown",
   "metadata": {},
   "source": [
    "### **Super method and class method**\n",
    "super() is used to call a method in a parent class of a subclass, whereas a class method is a method that is bound to the class and not an instance of the class."
   ]
  },
  {
   "cell_type": "code",
   "execution_count": null,
   "metadata": {},
   "outputs": [],
   "source": []
  }
 ],
 "metadata": {
  "kernelspec": {
   "display_name": "Python 3",
   "language": "python",
   "name": "python3"
  },
  "language_info": {
   "codemirror_mode": {
    "name": "ipython",
    "version": 3
   },
   "file_extension": ".py",
   "mimetype": "text/x-python",
   "name": "python",
   "nbconvert_exporter": "python",
   "pygments_lexer": "ipython3",
   "version": "3.10.0"
  },
  "orig_nbformat": 4
 },
 "nbformat": 4,
 "nbformat_minor": 2
}
