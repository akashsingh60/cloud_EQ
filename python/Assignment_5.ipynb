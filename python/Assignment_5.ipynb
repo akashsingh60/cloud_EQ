{
 "cells": [
  {
   "attachments": {},
   "cell_type": "markdown",
   "metadata": {},
   "source": [
    "### **List Comprehension with an if Condition**"
   ]
  },
  {
   "cell_type": "code",
   "execution_count": 1,
   "metadata": {},
   "outputs": [
    {
     "name": "stdout",
     "output_type": "stream",
     "text": [
      "[2, 4, 6, 8, 10]\n"
     ]
    }
   ],
   "source": [
    "numbers = [1, 2, 3, 4, 5, 6, 7, 8, 9, 10]\n",
    "\n",
    "even_numbers = [num for num in numbers if num % 2 == 0]\n",
    "\n",
    "print(even_numbers)\n"
   ]
  },
  {
   "cell_type": "code",
   "execution_count": 1,
   "metadata": {},
   "outputs": [
    {
     "name": "stdout",
     "output_type": "stream",
     "text": [
      "[1, 4, 9, 16, 36]\n"
     ]
    }
   ],
   "source": [
    "numbers = [1, 2, 3, 4, 6]\n",
    "\n",
    "squared_numbers = [num ** 2 for num in numbers]\n",
    "\n",
    "print(squared_numbers)"
   ]
  },
  {
   "attachments": {},
   "cell_type": "markdown",
   "metadata": {},
   "source": [
    "### **List Comprehension without a Condition**"
   ]
  },
  {
   "cell_type": "code",
   "execution_count": 2,
   "metadata": {},
   "outputs": [
    {
     "name": "stdout",
     "output_type": "stream",
     "text": [
      "['H', 'E', 'L', 'L', 'O', ' ', 'W', 'O', 'R', 'L', 'D']\n"
     ]
    }
   ],
   "source": [
    "string = \"hello world\"\n",
    "\n",
    "capitalized = [char.upper() for char in string]\n",
    "\n",
    "print(capitalized)\n"
   ]
  },
  {
   "attachments": {},
   "cell_type": "markdown",
   "metadata": {},
   "source": [
    "### **In dumps function what are the parameters that we have and what do they do, explain with small program:**\n"
   ]
  },
  {
   "attachments": {},
   "cell_type": "markdown",
   "metadata": {},
   "source": [
    "the json.dumps() function is used to serialize Python objects into a JSON formatted string. The function takes an object and returns a string in JSON format. Here are the parameters that can be passed to json.dumps()\n"
   ]
  },
  {
   "attachments": {},
   "cell_type": "markdown",
   "metadata": {},
   "source": [
    "#### **Parameters**"
   ]
  },
  {
   "cell_type": "code",
   "execution_count": null,
   "metadata": {},
   "outputs": [],
   "source": [
    "obj: The Python object to be serialized (required).\n",
    "skipkeys: Whether to skip keys that are not of a basic data type (optional, default is False).\n",
    "indent: Number of spaces to use for indentation in the output (optional, default is None).\n",
    "separators: Separators to use between items in the output (optional, default is (', ', ': '))."
   ]
  },
  {
   "cell_type": "code",
   "execution_count": 5,
   "metadata": {},
   "outputs": [
    {
     "name": "stdout",
     "output_type": "stream",
     "text": [
      "{\n",
      "    \"name\": \"John\",\n",
      "    \"age\": 30,\n",
      "    \"city\": \"New York\"\n",
      "}\n"
     ]
    }
   ],
   "source": [
    "import json\n",
    "\n",
    "# create a Python dictionary\n",
    "person = {'name': 'John', 'age': 30, 'city': 'New York'}\n",
    "\n",
    "# serialize the dictionary to a JSON string with indentation and custom separators\n",
    "json_string = json.dumps(person, indent=4, separators=(',', ': '))\n",
    "\n",
    "# print the JSON string\n",
    "print(json_string)\n"
   ]
  },
  {
   "cell_type": "code",
   "execution_count": 6,
   "metadata": {},
   "outputs": [],
   "source": [
    "try:\n",
    "    n = int(input(\"enter a number\"))\n",
    "    if n == 1:\n",
    "        raise IndexError()\n",
    "    if n == 2:\n",
    "        raise KeyError()\n",
    "    else:\n",
    "        print(\"No error\")\n",
    "\n",
    "except IndexError:\n",
    "    print(\"index error\")\n",
    "except KeyError:\n",
    "    print(\"key error\")"
   ]
  },
  {
   "cell_type": "code",
   "execution_count": null,
   "metadata": {},
   "outputs": [],
   "source": []
  }
 ],
 "metadata": {
  "kernelspec": {
   "display_name": "Python 3",
   "language": "python",
   "name": "python3"
  },
  "language_info": {
   "codemirror_mode": {
    "name": "ipython",
    "version": 3
   },
   "file_extension": ".py",
   "mimetype": "text/x-python",
   "name": "python",
   "nbconvert_exporter": "python",
   "pygments_lexer": "ipython3",
   "version": "3.10.0"
  },
  "orig_nbformat": 4
 },
 "nbformat": 4,
 "nbformat_minor": 2
}
