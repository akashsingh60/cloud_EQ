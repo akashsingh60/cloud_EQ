{
  "nbformat": 4,
  "nbformat_minor": 0,
  "metadata": {
    "colab": {
      "provenance": []
    },
    "kernelspec": {
      "name": "python3",
      "display_name": "Python 3"
    },
    "language_info": {
      "name": "python"
    }
  },
  "cells": [
    {
      "cell_type": "markdown",
      "source": [
        "# **Typecasting**"
      ],
      "metadata": {
        "id": "1cEBk_O7T4bm"
      }
    },
    {
      "cell_type": "code",
      "source": [
        "\n",
        "a = '123'    # string\n",
        "b = 3.14     # float\n",
        "c = True     # boolean\n",
        "\n",
        "# Convert a string to integer\n",
        "a = int(a)\n",
        "\n",
        "# Convert a float to integer\n",
        "b = int(b)\n",
        "\n",
        "# Convert a boolean to integer\n",
        "c = int(c)\n",
        "\n",
        "# Convert an integer to float\n",
        "a = float(a)\n",
        "\n",
        "# Print the final values and their types\n",
        "print(a, type(a))\n",
        "print(b, type(b))\n",
        "print(c, type(c))\n"
      ],
      "metadata": {
        "colab": {
          "base_uri": "https://localhost:8080/"
        },
        "id": "mLt-hWWiDyUB",
        "outputId": "aa2812b8-648b-4ed9-fe2e-b26b2e94931f"
      },
      "execution_count": null,
      "outputs": [
        {
          "output_type": "stream",
          "name": "stdout",
          "text": [
            "123.0 <class 'float'>\n",
            "3 <class 'int'>\n",
            "1 <class 'int'>\n"
          ]
        }
      ]
    },
    {
      "cell_type": "markdown",
      "source": [
        "# **dictionary** "
      ],
      "metadata": {
        "id": "zUV2lIcFT9mM"
      }
    },
    {
      "cell_type": "code",
      "source": [
        "\n",
        "my_dict = {'name': 'John', 'age': 30, 'gender': 'male'}\n",
        "name_value = my_dict['name']\n",
        "print(name_value)\n"
      ],
      "metadata": {
        "colab": {
          "base_uri": "https://localhost:8080/"
        },
        "id": "Av7aPJGtDyXC",
        "outputId": "fcee1bec-f7fd-4ba6-dede-fab234baba63"
      },
      "execution_count": null,
      "outputs": [
        {
          "output_type": "stream",
          "name": "stdout",
          "text": [
            "John\n"
          ]
        }
      ]
    },
    {
      "cell_type": "markdown",
      "source": [
        "# **Indexing in list**"
      ],
      "metadata": {
        "id": "mMUv6QU9UAXv"
      }
    },
    {
      "cell_type": "code",
      "source": [
        "my_list = ['apple', 'banana', 'orange', 'grape', 'kiwi']\n",
        "\n",
        "# Accessing elements by index\n",
        "print(my_list[0])   # 'apple'\n",
        "print(my_list[1])   # 'banana'"
      ],
      "metadata": {
        "colab": {
          "base_uri": "https://localhost:8080/"
        },
        "id": "407TTSNYDyZS",
        "outputId": "b7bb7a25-47ff-433f-cae2-f2d8a15b25a5"
      },
      "execution_count": null,
      "outputs": [
        {
          "output_type": "stream",
          "name": "stdout",
          "text": [
            "apple\n",
            "banana\n"
          ]
        }
      ]
    },
    {
      "cell_type": "markdown",
      "source": [
        "# **Indexing in tuple**"
      ],
      "metadata": {
        "id": "Bf_HSikeUEZV"
      }
    },
    {
      "cell_type": "code",
      "source": [
        "my_tuple = ('apple', 'banana', 'orange', 'grape', 'kiwi')\n",
        "\n",
        "# Accessing elements by index\n",
        "print(my_tuple[0])   # 'apple'\n",
        "print(my_tuple[1])   # 'banana\n"
      ],
      "metadata": {
        "colab": {
          "base_uri": "https://localhost:8080/"
        },
        "id": "VyNrl6W2DybJ",
        "outputId": "45208890-d95a-40a5-ddd2-b56121d01db3"
      },
      "execution_count": null,
      "outputs": [
        {
          "output_type": "stream",
          "name": "stdout",
          "text": [
            "apple\n",
            "banana\n"
          ]
        }
      ]
    },
    {
      "cell_type": "code",
      "source": [
        "#indexing in set is not possible because they are unordered collection of unique elements."
      ],
      "metadata": {
        "id": "FmQoX7jjDyeF"
      },
      "execution_count": null,
      "outputs": []
    }
  ]
}